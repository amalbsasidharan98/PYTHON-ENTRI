{
 "cells": [
  {
   "cell_type": "code",
   "execution_count": 1,
   "id": "346dd389",
   "metadata": {},
   "outputs": [
    {
     "name": "stdout",
     "output_type": "stream",
     "text": [
      "2x5 Matrix:\n",
      " [[ 1  2  3  4  5]\n",
      " [ 6  7  8  9 10]]\n"
     ]
    }
   ],
   "source": [
    "import numpy as np\n",
    "\n",
    "# Exercise 1\n",
    "arr = np.arange(1, 11)\n",
    "reshaped_arr = arr.reshape(2, 5)\n",
    "print(\"2x5 Matrix:\\n\", reshaped_arr)\n"
   ]
  },
  {
   "cell_type": "code",
   "execution_count": 2,
   "id": "2bef9d0c",
   "metadata": {},
   "outputs": [
    {
     "name": "stdout",
     "output_type": "stream",
     "text": [
      "Elements from index 5 to 15: [ 6  7  8  9 10 11 12 13 14 15 16]\n"
     ]
    }
   ],
   "source": [
    "# Exercise 2\n",
    "arr = np.arange(1, 21)\n",
    "subset = arr[5:16]  # Index 5 to 15 inclusive\n",
    "print(\"Elements from index 5 to 15:\", subset)\n"
   ]
  },
  {
   "cell_type": "code",
   "execution_count": 3,
   "id": "02cb3243",
   "metadata": {},
   "outputs": [
    {
     "name": "stdout",
     "output_type": "stream",
     "text": [
      "Updated Series:\n",
      " apples     3\n",
      "bananas    2\n",
      "oranges    1\n",
      "pears      4\n",
      "dtype: int64\n"
     ]
    }
   ],
   "source": [
    "import pandas as pd\n",
    "\n",
    "# Exercise 3\n",
    "fruits = pd.Series({'apples': 3, 'bananas': 2, 'oranges': 1})\n",
    "fruits['pears'] = 4\n",
    "print(\"Updated Series:\\n\", fruits)\n"
   ]
  },
  {
   "cell_type": "code",
   "execution_count": 4,
   "id": "e59599ca",
   "metadata": {},
   "outputs": [
    {
     "name": "stdout",
     "output_type": "stream",
     "text": [
      "DataFrame:\n",
      "       name  age gender\n",
      "0    Alice   25      F\n",
      "1      Bob   32      M\n",
      "2  Charlie   28      M\n",
      "3    David   45      M\n",
      "4      Eve   30      F\n",
      "5    Frank   22      M\n",
      "6    Grace   27      F\n",
      "7   Hannah   35      F\n",
      "8      Ian   40      M\n",
      "9     Jane   29      F\n"
     ]
    }
   ],
   "source": [
    "# Exercise 4\n",
    "data = {\n",
    "    'name': ['Alice', 'Bob', 'Charlie', 'David', 'Eve', 'Frank', 'Grace', 'Hannah', 'Ian', 'Jane'],\n",
    "    'age': [25, 32, 28, 45, 30, 22, 27, 35, 40, 29],\n",
    "    'gender': ['F', 'M', 'M', 'M', 'F', 'M', 'F', 'F', 'M', 'F']\n",
    "}\n",
    "df = pd.DataFrame(data)\n",
    "print(\"DataFrame:\\n\", df)\n"
   ]
  },
  {
   "cell_type": "code",
   "execution_count": 5,
   "id": "52c40522",
   "metadata": {},
   "outputs": [
    {
     "name": "stdout",
     "output_type": "stream",
     "text": [
      "DataFrame with Occupation:\n",
      "       name  age gender  occupation\n",
      "0    Alice   25      F  Programmer\n",
      "1      Bob   32      M     Manager\n",
      "2  Charlie   28      M     Analyst\n",
      "3    David   45      M  Programmer\n",
      "4      Eve   30      F     Manager\n",
      "5    Frank   22      M     Analyst\n",
      "6    Grace   27      F  Programmer\n",
      "7   Hannah   35      F     Manager\n",
      "8      Ian   40      M     Analyst\n",
      "9     Jane   29      F  Programmer\n"
     ]
    }
   ],
   "source": [
    "# Exercise 5\n",
    "occupations = ['Programmer', 'Manager', 'Analyst', 'Programmer', 'Manager', \n",
    "               'Analyst', 'Programmer', 'Manager', 'Analyst', 'Programmer']\n",
    "df['occupation'] = occupations\n",
    "print(\"DataFrame with Occupation:\\n\", df)\n"
   ]
  },
  {
   "cell_type": "code",
   "execution_count": 6,
   "id": "d6c23a66",
   "metadata": {},
   "outputs": [
    {
     "name": "stdout",
     "output_type": "stream",
     "text": [
      "Rows where age >= 30:\n",
      "      name  age gender  occupation\n",
      "1     Bob   32      M     Manager\n",
      "3   David   45      M  Programmer\n",
      "4     Eve   30      F     Manager\n",
      "7  Hannah   35      F     Manager\n",
      "8     Ian   40      M     Analyst\n"
     ]
    }
   ],
   "source": [
    "# Exercise 6\n",
    "age_filtered = df[df['age'] >= 30]\n",
    "print(\"Rows where age >= 30:\\n\", age_filtered)\n"
   ]
  },
  {
   "cell_type": "code",
   "execution_count": 7,
   "id": "9adec123",
   "metadata": {},
   "outputs": [
    {
     "name": "stdout",
     "output_type": "stream",
     "text": [
      "Data from CSV:\n",
      "       name  age gender  occupation\n",
      "0    Alice   25      F  Programmer\n",
      "1      Bob   32      M     Manager\n",
      "2  Charlie   28      M     Analyst\n",
      "3    David   45      M  Programmer\n",
      "4      Eve   30      F     Manager\n",
      "5    Frank   22      M     Analyst\n",
      "6    Grace   27      F  Programmer\n",
      "7   Hannah   35      F     Manager\n",
      "8      Ian   40      M     Analyst\n",
      "9     Jane   29      F  Programmer\n"
     ]
    }
   ],
   "source": [
    "# Exercise 7\n",
    "df.to_csv(\"people_data.csv\", index=False)\n",
    "\n",
    "# Read the CSV file back into a DataFrame\n",
    "df_from_csv = pd.read_csv(\"people_data.csv\")\n",
    "print(\"Data from CSV:\\n\", df_from_csv)\n"
   ]
  },
  {
   "cell_type": "code",
   "execution_count": null,
   "id": "fbba4b34",
   "metadata": {},
   "outputs": [],
   "source": []
  }
 ],
 "metadata": {
  "kernelspec": {
   "display_name": "Python 3 (ipykernel)",
   "language": "python",
   "name": "python3"
  },
  "language_info": {
   "codemirror_mode": {
    "name": "ipython",
    "version": 3
   },
   "file_extension": ".py",
   "mimetype": "text/x-python",
   "name": "python",
   "nbconvert_exporter": "python",
   "pygments_lexer": "ipython3",
   "version": "3.11.5"
  }
 },
 "nbformat": 4,
 "nbformat_minor": 5
}
