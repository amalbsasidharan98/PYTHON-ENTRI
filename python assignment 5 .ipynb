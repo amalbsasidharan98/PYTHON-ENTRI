{
 "cells": [
  {
   "cell_type": "code",
   "execution_count": 4,
   "id": "a14522e7",
   "metadata": {},
   "outputs": [
    {
     "name": "stdout",
     "output_type": "stream",
     "text": [
      "Sample data files created: 'example.txt' and 'source.txt'\n"
     ]
    }
   ],
   "source": [
    "# Create example.txt with sample content\n",
    "with open(\"example.txt\", \"w\") as f:\n",
    "    f.write(\"Python is a powerful programming language.\\n\")\n",
    "    f.write(\"It is widely used in web development, data science, automation, and more.\\n\")\n",
    "\n",
    "# Create source.txt with sample content\n",
    "with open(\"source.txt\", \"w\") as f:\n",
    "    f.write(\"This is the source file.\\n\")\n",
    "    f.write(\"Its contents will be copied to another file.\\n\")\n",
    "\n",
    "print(\"Sample data files created: 'example.txt' and 'source.txt'\")\n"
   ]
  },
  {
   "cell_type": "code",
   "execution_count": 5,
   "id": "4bbac224",
   "metadata": {},
   "outputs": [
    {
     "name": "stdout",
     "output_type": "stream",
     "text": [
      "File Content:\n",
      " Python is a powerful programming language.\n",
      "It is widely used in web development, data science, automation, and more.\n",
      "\n"
     ]
    }
   ],
   "source": [
    "# Exercise 1\n",
    "try:\n",
    "    with open(\"example.txt\", \"r\") as file:\n",
    "        content = file.read()\n",
    "        print(\"File Content:\\n\", content)\n",
    "except FileNotFoundError:\n",
    "    print(\"The file does not exist.\")\n"
   ]
  },
  {
   "cell_type": "code",
   "execution_count": 6,
   "id": "3a493081",
   "metadata": {},
   "outputs": [
    {
     "name": "stdout",
     "output_type": "stream",
     "text": [
      "File copied successfully.\n"
     ]
    }
   ],
   "source": [
    "# Exercise 2\n",
    "try:\n",
    "    with open(\"source.txt\", \"r\") as src:\n",
    "        data = src.read()\n",
    "\n",
    "    with open(\"destination.txt\", \"w\") as dest:\n",
    "        dest.write(data)\n",
    "\n",
    "    print(\"File copied successfully.\")\n",
    "except FileNotFoundError:\n",
    "    print(\"Source file not found.\")\n",
    "except Exception as e:\n",
    "    print(\"An error occurred:\", e)\n"
   ]
  },
  {
   "cell_type": "code",
   "execution_count": 7,
   "id": "599823fb",
   "metadata": {},
   "outputs": [
    {
     "name": "stdout",
     "output_type": "stream",
     "text": [
      "Total number of words: 18\n"
     ]
    }
   ],
   "source": [
    "# Exercise 3\n",
    "try:\n",
    "    with open(\"example.txt\", \"r\") as file:\n",
    "        content = file.read()\n",
    "        words = content.split()\n",
    "        print(\"Total number of words:\", len(words))\n",
    "except FileNotFoundError:\n",
    "    print(\"The file does not exist.\")\n"
   ]
  },
  {
   "cell_type": "code",
   "execution_count": 11,
   "id": "16a4e544",
   "metadata": {},
   "outputs": [
    {
     "name": "stdout",
     "output_type": "stream",
     "text": [
      "Enter a number: 10\n",
      "You entered: 10\n"
     ]
    }
   ],
   "source": [
    "# Exercise 4\n",
    "try:\n",
    "    user_input = input(\"Enter a number: \")\n",
    "    number = int(user_input)\n",
    "    print(\"You entered:\", number)\n",
    "except ValueError:\n",
    "    print(\"Invalid input! Please enter a valid integer.\")\n"
   ]
  },
  {
   "cell_type": "code",
   "execution_count": 13,
   "id": "f34628cf",
   "metadata": {},
   "outputs": [
    {
     "name": "stdout",
     "output_type": "stream",
     "text": [
      "Enter integers separated by space: 1 -7\n",
      "Error: Negative numbers are not allowed!\n"
     ]
    }
   ],
   "source": [
    "# Exercise 5\n",
    "try:\n",
    "    numbers = list(map(int, input(\"Enter integers separated by space: \").split()))\n",
    "    for num in numbers:\n",
    "        if num < 0:\n",
    "            raise ValueError(\"Negative numbers are not allowed!\")\n",
    "    print(\"All numbers are non-negative.\")\n",
    "except ValueError as ve:\n",
    "    print(\"Error:\", ve)\n"
   ]
  },
  {
   "cell_type": "code",
   "execution_count": 14,
   "id": "481e4c9d",
   "metadata": {},
   "outputs": [
    {
     "name": "stdout",
     "output_type": "stream",
     "text": [
      "Enter integers separated by space: 1 7\n",
      "Average: 4.0\n",
      "Program has finished running.\n"
     ]
    }
   ],
   "source": [
    "# Exercise 6\n",
    "try:\n",
    "    numbers = list(map(int, input(\"Enter integers separated by space: \").split()))\n",
    "    average = sum(numbers) / len(numbers)\n",
    "    print(\"Average:\", average)\n",
    "except ZeroDivisionError:\n",
    "    print(\"List is empty. Cannot compute average.\")\n",
    "except ValueError:\n",
    "    print(\"Invalid input! Please enter only integers.\")\n",
    "finally:\n",
    "    print(\"Program has finished running.\")\n"
   ]
  },
  {
   "cell_type": "code",
   "execution_count": 15,
   "id": "06cc6136",
   "metadata": {},
   "outputs": [
    {
     "name": "stdout",
     "output_type": "stream",
     "text": [
      "Enter filename to write to: entri app\n",
      "Welcome! File has been written successfully.\n"
     ]
    }
   ],
   "source": [
    "# Exercise 7\n",
    "try:\n",
    "    filename = input(\"Enter filename to write to: \")\n",
    "    with open(filename, \"w\") as file:\n",
    "        file.write(\"Hello! This is a test string written to the file.\")\n",
    "    print(\"Welcome! File has been written successfully.\")\n",
    "except Exception as e:\n",
    "    print(\"An error occurred:\", e)\n"
   ]
  },
  {
   "cell_type": "code",
   "execution_count": null,
   "id": "8ca6b351",
   "metadata": {},
   "outputs": [],
   "source": []
  }
 ],
 "metadata": {
  "kernelspec": {
   "display_name": "Python 3 (ipykernel)",
   "language": "python",
   "name": "python3"
  },
  "language_info": {
   "codemirror_mode": {
    "name": "ipython",
    "version": 3
   },
   "file_extension": ".py",
   "mimetype": "text/x-python",
   "name": "python",
   "nbconvert_exporter": "python",
   "pygments_lexer": "ipython3",
   "version": "3.11.5"
  }
 },
 "nbformat": 4,
 "nbformat_minor": 5
}
