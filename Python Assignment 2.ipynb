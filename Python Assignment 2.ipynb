{
 "cells": [
  {
   "cell_type": "code",
   "execution_count": 1,
   "id": "0e47b565",
   "metadata": {},
   "outputs": [
    {
     "name": "stdout",
     "output_type": "stream",
     "text": [
      "Original list: [73, 41, 38, 53, 18]\n"
     ]
    }
   ],
   "source": [
    "# Topic: List\n",
    "\n",
    "# Q1. Create a list of 5 random numbers and print the list.\n",
    "\n",
    "import random\n",
    "my_list = random.sample(range(1, 100), 5)\n",
    "print(\"Original list:\", my_list)"
   ]
  },
  {
   "cell_type": "code",
   "execution_count": 2,
   "id": "0209224b",
   "metadata": {},
   "outputs": [
    {
     "name": "stdout",
     "output_type": "stream",
     "text": [
      "Updated list after inserting 3 values: [73, 41, 38, 53, 18, 101, 202, 303]\n"
     ]
    }
   ],
   "source": [
    "# Q2. Insert 3 new values to the list and print the updated list.\n",
    "\n",
    "my_list.extend([101, 202, 303])\n",
    "print(\"Updated list after inserting 3 values:\", my_list)"
   ]
  },
  {
   "cell_type": "code",
   "execution_count": 3,
   "id": "1015c830",
   "metadata": {},
   "outputs": [
    {
     "name": "stdout",
     "output_type": "stream",
     "text": [
      "Elements in the list:\n",
      "73\n",
      "41\n",
      "38\n",
      "53\n",
      "18\n",
      "101\n",
      "202\n",
      "303\n"
     ]
    }
   ],
   "source": [
    "# Q3. Use a for-loop to print each element in the list.\\\n",
    "\n",
    "print(\"Elements in the list:\")\n",
    "for item in my_list:\n",
    "    print(item)"
   ]
  },
  {
   "cell_type": "code",
   "execution_count": 4,
   "id": "517715ce",
   "metadata": {},
   "outputs": [
    {
     "name": "stdout",
     "output_type": "stream",
     "text": [
      "\n",
      "Original dictionary: {'name': 'John', 'age': 25, 'address': 'New York'}\n"
     ]
    }
   ],
   "source": [
    "# Topic: Dictionary\n",
    "\n",
    "# Q1. Create a dictionary with keys 'name', 'age', and 'address'\n",
    "person = {\n",
    "    'name': 'John',\n",
    "    'age': 25,\n",
    "    'address': 'New York'\n",
    "}\n",
    "print(\"\\nOriginal dictionary:\", person)"
   ]
  },
  {
   "cell_type": "code",
   "execution_count": 5,
   "id": "111534d1",
   "metadata": {},
   "outputs": [
    {
     "name": "stdout",
     "output_type": "stream",
     "text": [
      "Updated dictionary with phone number: {'name': 'John', 'age': 25, 'address': 'New York', 'phone': '1234567890'}\n"
     ]
    }
   ],
   "source": [
    "# Q2. Add a new key-value pair to the dictionary\n",
    "\n",
    "person['phone'] = '1234567890'\n",
    "print(\"Updated dictionary with phone number:\", person)\n"
   ]
  },
  {
   "cell_type": "code",
   "execution_count": 6,
   "id": "84b07cde",
   "metadata": {},
   "outputs": [
    {
     "name": "stdout",
     "output_type": "stream",
     "text": [
      "\n",
      "Original set: {1, 2, 3, 4, 5}\n"
     ]
    }
   ],
   "source": [
    "# Topic: Set\n",
    "\n",
    "\n",
    "# Q1. Create a set with values 1, 2, 3, 4, and 5.\n",
    "my_set = {1, 2, 3, 4, 5}\n",
    "print(\"\\nOriginal set:\", my_set)"
   ]
  },
  {
   "cell_type": "code",
   "execution_count": 7,
   "id": "498901b7",
   "metadata": {},
   "outputs": [
    {
     "name": "stdout",
     "output_type": "stream",
     "text": [
      "Set after adding 6: {1, 2, 3, 4, 5, 6}\n"
     ]
    }
   ],
   "source": [
    "# Q2. Add the value 6 to the set\n",
    "my_set.add(6)\n",
    "print(\"Set after adding 6:\", my_set)"
   ]
  },
  {
   "cell_type": "code",
   "execution_count": 8,
   "id": "57758007",
   "metadata": {},
   "outputs": [
    {
     "name": "stdout",
     "output_type": "stream",
     "text": [
      "Set after removing 3: {1, 2, 4, 5, 6}\n"
     ]
    }
   ],
   "source": [
    "# Q3. Remove the value 3 from the set\n",
    "my_set.discard(3)\n",
    "print(\"Set after removing 3:\", my_set)\n"
   ]
  },
  {
   "cell_type": "code",
   "execution_count": 9,
   "id": "f4f88259",
   "metadata": {},
   "outputs": [
    {
     "name": "stdout",
     "output_type": "stream",
     "text": [
      "\n",
      "Created tuple: (1, 2, 3, 4)\n"
     ]
    }
   ],
   "source": [
    "# Topic: Tuple\n",
    "\n",
    "# Q1. Create a tuple with values 1, 2, 3, and 4\n",
    "my_tuple = (1, 2, 3, 4)\n",
    "print(\"\\nCreated tuple:\", my_tuple)"
   ]
  },
  {
   "cell_type": "code",
   "execution_count": 10,
   "id": "8607ebcd",
   "metadata": {},
   "outputs": [
    {
     "name": "stdout",
     "output_type": "stream",
     "text": [
      "Length of the tuple: 4\n"
     ]
    }
   ],
   "source": [
    " #Q2. Print the length of the tuple\n",
    "print(\"Length of the tuple:\", len(my_tuple))"
   ]
  }
 ],
 "metadata": {
  "kernelspec": {
   "display_name": "Python 3 (ipykernel)",
   "language": "python",
   "name": "python3"
  },
  "language_info": {
   "codemirror_mode": {
    "name": "ipython",
    "version": 3
   },
   "file_extension": ".py",
   "mimetype": "text/x-python",
   "name": "python",
   "nbconvert_exporter": "python",
   "pygments_lexer": "ipython3",
   "version": "3.11.5"
  }
 },
 "nbformat": 4,
 "nbformat_minor": 5
}
