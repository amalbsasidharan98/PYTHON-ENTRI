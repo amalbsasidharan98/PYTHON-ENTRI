{
 "cells": [
  {
   "cell_type": "code",
   "execution_count": 1,
   "id": "f5060d1c",
   "metadata": {},
   "outputs": [
    {
     "name": "stdout",
     "output_type": "stream",
     "text": [
      "Length of the list: 5\n"
     ]
    }
   ],
   "source": [
    "# Q1: What does the len() function do?\n",
    "\n",
    "# The len() function returns the number of items in an object.  It works with strings, lists, tuples, dictionaries, etc.\n",
    "\n",
    "my_list = [10, 20, 30, 40, 50]\n",
    "print(\"Length of the list:\", len(my_list)) \n"
   ]
  },
  {
   "cell_type": "code",
   "execution_count": 2,
   "id": "6e1d1b6b",
   "metadata": {},
   "outputs": [
    {
     "name": "stdout",
     "output_type": "stream",
     "text": [
      "Hello, Alice!\n"
     ]
    }
   ],
   "source": [
    "# Q2: greet(name) function\n",
    "\n",
    "def greet(name):\n",
    "    print(f\"Hello, {name}!\")\n",
    "\n",
    "greet(\"Alice\")\n"
   ]
  },
  {
   "cell_type": "code",
   "execution_count": 3,
   "id": "a86f55a7",
   "metadata": {},
   "outputs": [
    {
     "name": "stdout",
     "output_type": "stream",
     "text": [
      "Maximum number: 19\n"
     ]
    }
   ],
   "source": [
    "# Q3: find_maximum(numbers) without using max()\n",
    "\n",
    "def find_maximum(numbers):\n",
    "    if not numbers:\n",
    "        return None \n",
    "    max_num = numbers[0]\n",
    "    for num in numbers[1:]:\n",
    "        if num > max_num:\n",
    "            max_num = num\n",
    "    return max_num\n",
    "\n",
    "print(\"Maximum number:\", find_maximum([4, 12, 7, 19, 5]))"
   ]
  },
  {
   "cell_type": "code",
   "execution_count": 4,
   "id": "cce03690",
   "metadata": {},
   "outputs": [
    {
     "name": "stdout",
     "output_type": "stream",
     "text": [
      "Inside function, x = 5\n",
      "Outside function, x = 10\n"
     ]
    }
   ],
   "source": [
    "# Q4: Local vs Global Variable\n",
    "\n",
    "# Global variable\n",
    "x = 10\n",
    "\n",
    "def example_function():\n",
    "    x = 5\n",
    "    print(\"Inside function, x =\", x)  # Local x\n",
    "\n",
    "example_function()\n",
    "print(\"Outside function, x =\", x)  # Global x\n",
    "\n",
    "# Explanation:\n",
    "# Inside the function, Python uses the local variable x = 5.\n",
    "# Outside the function, the global variable x = 10 remains unchanged."
   ]
  },
  {
   "cell_type": "code",
   "execution_count": 5,
   "id": "94803660",
   "metadata": {},
   "outputs": [
    {
     "name": "stdout",
     "output_type": "stream",
     "text": [
      "Area with length=10, width=3: 30\n",
      "Area with length=10: 50\n"
     ]
    }
   ],
   "source": [
    "# Q5: calculate_area(length, width=5)\n",
    "\n",
    "def calculate_area(length, width=5):\n",
    "    return length * width\n",
    "\n",
    "print(\"Area with length=10, width=3:\", calculate_area(10, 3))\n",
    "\n",
    "print(\"Area with length=10:\", calculate_area(10))\n",
    "\n",
    "# Explanation:\n",
    "# When the width is not provided, the default value of 5 is used."
   ]
  },
  {
   "cell_type": "code",
   "execution_count": null,
   "id": "e4417398",
   "metadata": {},
   "outputs": [],
   "source": []
  }
 ],
 "metadata": {
  "kernelspec": {
   "display_name": "Python 3 (ipykernel)",
   "language": "python",
   "name": "python3"
  },
  "language_info": {
   "codemirror_mode": {
    "name": "ipython",
    "version": 3
   },
   "file_extension": ".py",
   "mimetype": "text/x-python",
   "name": "python",
   "nbconvert_exporter": "python",
   "pygments_lexer": "ipython3",
   "version": "3.11.5"
  }
 },
 "nbformat": 4,
 "nbformat_minor": 5
}
