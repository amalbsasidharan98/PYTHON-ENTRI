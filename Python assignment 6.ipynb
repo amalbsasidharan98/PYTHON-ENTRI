{
 "cells": [
  {
   "cell_type": "code",
   "execution_count": 1,
   "id": "211ccf5a",
   "metadata": {},
   "outputs": [],
   "source": [
    "# Base class for a course\n",
    "class Course:\n",
    "    def __init__(self, course_code, course_name, credit_hours):\n",
    "        self.course_code = course_code\n",
    "        self.course_name = course_name\n",
    "        self.credit_hours = credit_hours\n",
    "\n",
    "# Subclass for core courses\n",
    "class CoreCourse(Course):\n",
    "    def __init__(self, course_code, course_name, credit_hours, required_for_major):\n",
    "        super().__init__(course_code, course_name, credit_hours)\n",
    "        self.required_for_major = required_for_major\n",
    "\n",
    "# Subclass for elective courses\n",
    "class ElectiveCourse(Course):\n",
    "    def __init__(self, course_code, course_name, credit_hours, elective_type):\n",
    "        super().__init__(course_code, course_name, credit_hours)\n",
    "        self.elective_type = elective_type"
   ]
  },
  {
   "cell_type": "code",
   "execution_count": 2,
   "id": "b3f7f85a",
   "metadata": {},
   "outputs": [
    {
     "name": "stdout",
     "output_type": "stream",
     "text": [
      "Intro to Computer Science - Required for Major: True\n",
      "Creative Writing - Elective Type: liberal arts\n"
     ]
    }
   ],
   "source": [
    "# Example usage\n",
    "core = CoreCourse(\"CS101\", \"Intro to Computer Science\", 3, True)\n",
    "elective = ElectiveCourse(\"ENG201\", \"Creative Writing\", 2, \"liberal arts\")\n",
    "\n",
    "print(core.course_name, \"-\", \"Required for Major:\", core.required_for_major)\n",
    "print(elective.course_name, \"-\", \"Elective Type:\", elective.elective_type)"
   ]
  },
  {
   "cell_type": "code",
   "execution_count": 3,
   "id": "c8f06385",
   "metadata": {},
   "outputs": [],
   "source": [
    "# Simulating employee.py module inline\n",
    "class Employee:\n",
    "    def __init__(self, name, salary):\n",
    "        self.name = name\n",
    "        self.salary = salary\n",
    "\n",
    "    def get_name(self):\n",
    "        return self.name\n",
    "\n",
    "    def get_salary(self):\n",
    "        return self.salary"
   ]
  },
  {
   "cell_type": "code",
   "execution_count": 4,
   "id": "400d70bd",
   "metadata": {},
   "outputs": [
    {
     "name": "stdout",
     "output_type": "stream",
     "text": [
      "\n",
      "--- Employee Details ---\n",
      "Name: John Doe\n",
      "Salary: 50000\n"
     ]
    }
   ],
   "source": [
    "#  usage for employee\n",
    "emp = Employee(\"John Doe\", 50000)\n",
    "\n",
    "print(\"\\n--- Employee Details ---\")\n",
    "print(\"Name:\", emp.get_name())\n",
    "print(\"Salary:\", emp.get_salary())"
   ]
  },
  {
   "cell_type": "code",
   "execution_count": null,
   "id": "3076a32e",
   "metadata": {},
   "outputs": [],
   "source": []
  }
 ],
 "metadata": {
  "kernelspec": {
   "display_name": "Python 3 (ipykernel)",
   "language": "python",
   "name": "python3"
  },
  "language_info": {
   "codemirror_mode": {
    "name": "ipython",
    "version": 3
   },
   "file_extension": ".py",
   "mimetype": "text/x-python",
   "name": "python",
   "nbconvert_exporter": "python",
   "pygments_lexer": "ipython3",
   "version": "3.11.5"
  }
 },
 "nbformat": 4,
 "nbformat_minor": 5
}
